{
  "cells": [
    {
      "cell_type": "markdown",
      "metadata": {
        "id": "gANPGhW1Wnlb"
      },
      "source": [
        "# Re-Ranking Methods in RAG Systems\n",
        "## Overview And Motivation\n",
        "LLMs when generating responses often hallucinate and are not able to properly answer a lot of questions. Reranking aims to improve the relevance and quality of retrieved documents. The primary motivation for reranking in RAG systems is the fact Reranking allows for more sophisticated relevance assessment, taking into account nuanced relationships between queries and documents.\n",
        "\n",
        "## Key Components\n",
        "1. Initial/Base Retriever: A Vector Store using similarity based search\n",
        "2. Re-Ranking Model:\n",
        "  - Can be LLM or Cross-Encoder Model\n",
        "  This ipynb makes use of CohereReRanker\n",
        "\n",
        "## Method Details\n",
        "1. Initial Retrieval: Fetches some 'n' number of related documents\n",
        "2. Pair Creation: Forms Query-Document Pairs for each retrieved doc\n",
        "3. Scoring: We feed the pairs directly into our Cross-Encoder Model - parse and normalize the relevance scores\n",
        "4. Reordering and Selection of 'k' docs\n",
        "\n",
        "Source of images and theory (Credits): https://colab.research.google.com/github/NirDiamant/RAG_Techniques/blob/main/all_rag_techniques/reranking_with_llamaindex.ipynb#scrollTo=75NUYNBXI5Bk\n"
      ]
    },
    {
      "cell_type": "markdown",
      "metadata": {
        "id": "F4sgBWCdZA73"
      },
      "source": [
        "![reranking-visualization.svg](data:image/svg+xml;base64,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)"
      ]
    },
    {
      "cell_type": "markdown",
      "metadata": {
        "id": "IYo6KBVIYr_o"
      },
      "source": [
        "![Flowchart.svg](data:image/svg+xml;base64,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)"
      ]
    },
    {
      "cell_type": "markdown",
      "metadata": {
        "id": "5MQPEM57aHQF"
      },
      "source": [
        "# CODING AND IMPLEMENTATION\n"
      ]
    },
    {
      "cell_type": "code",
      "execution_count": 16,
      "metadata": {
        "colab": {
          "base_uri": "https://localhost:8080/"
        },
        "id": "Cs-VK2mE_59h",
        "outputId": "9bd7fa21-e74f-4c9d-aed6-04591fd2f4d5"
      },
      "outputs": [
        {
          "name": "stdout",
          "output_type": "stream",
          "text": [
            "Requirement already satisfied: langchain_cohere in ./venv/lib/python3.13/site-packages (0.4.4)\n",
            "Requirement already satisfied: langchain_community in ./venv/lib/python3.13/site-packages (0.3.25)\n",
            "Requirement already satisfied: langchain_google_genai in ./venv/lib/python3.13/site-packages (2.1.5)\n",
            "Requirement already satisfied: chromadb in ./venv/lib/python3.13/site-packages (1.0.13)\n",
            "Requirement already satisfied: dotenv in ./venv/lib/python3.13/site-packages (0.9.9)\n",
            "Requirement already satisfied: cohere<6.0,>=5.12.0 in ./venv/lib/python3.13/site-packages (from langchain_cohere) (5.15.0)\n",
            "Requirement already satisfied: langchain-core<0.4.0,>=0.3.27 in ./venv/lib/python3.13/site-packages (from langchain_cohere) (0.3.65)\n",
            "Requirement already satisfied: pydantic<3,>=2 in ./venv/lib/python3.13/site-packages (from langchain_cohere) (2.11.7)\n",
            "Requirement already satisfied: types-pyyaml<7.0.0.0,>=6.0.12.20240917 in ./venv/lib/python3.13/site-packages (from langchain_cohere) (6.0.12.20250516)\n",
            "Requirement already satisfied: langchain<1.0.0,>=0.3.25 in ./venv/lib/python3.13/site-packages (from langchain_community) (0.3.25)\n",
            "Requirement already satisfied: SQLAlchemy<3,>=1.4 in ./venv/lib/python3.13/site-packages (from langchain_community) (2.0.41)\n",
            "Requirement already satisfied: requests<3,>=2 in ./venv/lib/python3.13/site-packages (from langchain_community) (2.32.4)\n",
            "Requirement already satisfied: PyYAML>=5.3 in ./venv/lib/python3.13/site-packages (from langchain_community) (6.0.2)\n",
            "Requirement already satisfied: aiohttp<4.0.0,>=3.8.3 in ./venv/lib/python3.13/site-packages (from langchain_community) (3.12.13)\n",
            "Requirement already satisfied: tenacity!=8.4.0,<10,>=8.1.0 in ./venv/lib/python3.13/site-packages (from langchain_community) (9.1.2)\n",
            "Requirement already satisfied: dataclasses-json<0.7,>=0.5.7 in ./venv/lib/python3.13/site-packages (from langchain_community) (0.6.7)\n",
            "Requirement already satisfied: pydantic-settings<3.0.0,>=2.4.0 in ./venv/lib/python3.13/site-packages (from langchain_community) (2.9.1)\n",
            "Requirement already satisfied: langsmith<0.4,>=0.1.125 in ./venv/lib/python3.13/site-packages (from langchain_community) (0.3.45)\n",
            "Requirement already satisfied: httpx-sse<1.0.0,>=0.4.0 in ./venv/lib/python3.13/site-packages (from langchain_community) (0.4.0)\n",
            "Requirement already satisfied: numpy>=2.1.0 in ./venv/lib/python3.13/site-packages (from langchain_community) (2.2.6)\n",
            "Requirement already satisfied: filetype<2.0.0,>=1.2.0 in ./venv/lib/python3.13/site-packages (from langchain_google_genai) (1.2.0)\n",
            "Requirement already satisfied: google-ai-generativelanguage<0.7.0,>=0.6.18 in ./venv/lib/python3.13/site-packages (from langchain_google_genai) (0.6.18)\n",
            "Requirement already satisfied: build>=1.0.3 in ./venv/lib/python3.13/site-packages (from chromadb) (1.2.2.post1)\n",
            "Requirement already satisfied: pybase64>=1.4.1 in ./venv/lib/python3.13/site-packages (from chromadb) (1.4.1)\n",
            "Requirement already satisfied: uvicorn>=0.18.3 in ./venv/lib/python3.13/site-packages (from uvicorn[standard]>=0.18.3->chromadb) (0.34.3)\n",
            "Requirement already satisfied: posthog>=2.4.0 in ./venv/lib/python3.13/site-packages (from chromadb) (5.3.0)\n",
            "Requirement already satisfied: typing-extensions>=4.5.0 in ./venv/lib/python3.13/site-packages (from chromadb) (4.14.0)\n",
            "Requirement already satisfied: onnxruntime>=1.14.1 in ./venv/lib/python3.13/site-packages (from chromadb) (1.22.0)\n",
            "Requirement already satisfied: opentelemetry-api>=1.2.0 in ./venv/lib/python3.13/site-packages (from chromadb) (1.34.1)\n",
            "Requirement already satisfied: opentelemetry-exporter-otlp-proto-grpc>=1.2.0 in ./venv/lib/python3.13/site-packages (from chromadb) (1.34.1)\n",
            "Requirement already satisfied: opentelemetry-sdk>=1.2.0 in ./venv/lib/python3.13/site-packages (from chromadb) (1.34.1)\n",
            "Requirement already satisfied: tokenizers>=0.13.2 in ./venv/lib/python3.13/site-packages (from chromadb) (0.21.1)\n",
            "Requirement already satisfied: pypika>=0.48.9 in ./venv/lib/python3.13/site-packages (from chromadb) (0.48.9)\n",
            "Requirement already satisfied: tqdm>=4.65.0 in ./venv/lib/python3.13/site-packages (from chromadb) (4.67.1)\n",
            "Requirement already satisfied: overrides>=7.3.1 in ./venv/lib/python3.13/site-packages (from chromadb) (7.7.0)\n",
            "Requirement already satisfied: importlib-resources in ./venv/lib/python3.13/site-packages (from chromadb) (6.5.2)\n",
            "Requirement already satisfied: grpcio>=1.58.0 in ./venv/lib/python3.13/site-packages (from chromadb) (1.73.0)\n",
            "Requirement already satisfied: bcrypt>=4.0.1 in ./venv/lib/python3.13/site-packages (from chromadb) (4.3.0)\n",
            "Requirement already satisfied: typer>=0.9.0 in ./venv/lib/python3.13/site-packages (from chromadb) (0.16.0)\n",
            "Requirement already satisfied: kubernetes>=28.1.0 in ./venv/lib/python3.13/site-packages (from chromadb) (33.1.0)\n",
            "Requirement already satisfied: mmh3>=4.0.1 in ./venv/lib/python3.13/site-packages (from chromadb) (5.1.0)\n",
            "Requirement already satisfied: orjson>=3.9.12 in ./venv/lib/python3.13/site-packages (from chromadb) (3.10.18)\n",
            "Requirement already satisfied: httpx>=0.27.0 in ./venv/lib/python3.13/site-packages (from chromadb) (0.28.1)\n",
            "Requirement already satisfied: rich>=10.11.0 in ./venv/lib/python3.13/site-packages (from chromadb) (14.0.0)\n",
            "Requirement already satisfied: jsonschema>=4.19.0 in ./venv/lib/python3.13/site-packages (from chromadb) (4.24.0)\n",
            "Requirement already satisfied: python-dotenv in ./venv/lib/python3.13/site-packages (from dotenv) (1.1.0)\n",
            "Requirement already satisfied: aiohappyeyeballs>=2.5.0 in ./venv/lib/python3.13/site-packages (from aiohttp<4.0.0,>=3.8.3->langchain_community) (2.6.1)\n",
            "Requirement already satisfied: aiosignal>=1.1.2 in ./venv/lib/python3.13/site-packages (from aiohttp<4.0.0,>=3.8.3->langchain_community) (1.3.2)\n",
            "Requirement already satisfied: attrs>=17.3.0 in ./venv/lib/python3.13/site-packages (from aiohttp<4.0.0,>=3.8.3->langchain_community) (25.3.0)\n",
            "Requirement already satisfied: frozenlist>=1.1.1 in ./venv/lib/python3.13/site-packages (from aiohttp<4.0.0,>=3.8.3->langchain_community) (1.7.0)\n",
            "Requirement already satisfied: multidict<7.0,>=4.5 in ./venv/lib/python3.13/site-packages (from aiohttp<4.0.0,>=3.8.3->langchain_community) (6.5.0)\n",
            "Requirement already satisfied: propcache>=0.2.0 in ./venv/lib/python3.13/site-packages (from aiohttp<4.0.0,>=3.8.3->langchain_community) (0.3.2)\n",
            "Requirement already satisfied: yarl<2.0,>=1.17.0 in ./venv/lib/python3.13/site-packages (from aiohttp<4.0.0,>=3.8.3->langchain_community) (1.20.1)\n",
            "Requirement already satisfied: packaging>=19.1 in ./venv/lib/python3.13/site-packages (from build>=1.0.3->chromadb) (24.2)\n",
            "Requirement already satisfied: pyproject_hooks in ./venv/lib/python3.13/site-packages (from build>=1.0.3->chromadb) (1.2.0)\n",
            "Requirement already satisfied: fastavro<2.0.0,>=1.9.4 in ./venv/lib/python3.13/site-packages (from cohere<6.0,>=5.12.0->langchain_cohere) (1.11.1)\n",
            "Requirement already satisfied: pydantic-core<3.0.0,>=2.18.2 in ./venv/lib/python3.13/site-packages (from cohere<6.0,>=5.12.0->langchain_cohere) (2.33.2)\n",
            "Requirement already satisfied: types-requests<3.0.0,>=2.0.0 in ./venv/lib/python3.13/site-packages (from cohere<6.0,>=5.12.0->langchain_cohere) (2.32.4.20250611)\n",
            "Requirement already satisfied: marshmallow<4.0.0,>=3.18.0 in ./venv/lib/python3.13/site-packages (from dataclasses-json<0.7,>=0.5.7->langchain_community) (3.26.1)\n",
            "Requirement already satisfied: typing-inspect<1,>=0.4.0 in ./venv/lib/python3.13/site-packages (from dataclasses-json<0.7,>=0.5.7->langchain_community) (0.9.0)\n",
            "Requirement already satisfied: google-api-core!=2.0.*,!=2.1.*,!=2.10.*,!=2.2.*,!=2.3.*,!=2.4.*,!=2.5.*,!=2.6.*,!=2.7.*,!=2.8.*,!=2.9.*,<3.0.0,>=1.34.1 in ./venv/lib/python3.13/site-packages (from google-api-core[grpc]!=2.0.*,!=2.1.*,!=2.10.*,!=2.2.*,!=2.3.*,!=2.4.*,!=2.5.*,!=2.6.*,!=2.7.*,!=2.8.*,!=2.9.*,<3.0.0,>=1.34.1->google-ai-generativelanguage<0.7.0,>=0.6.18->langchain_google_genai) (2.25.1)\n",
            "Requirement already satisfied: google-auth!=2.24.0,!=2.25.0,<3.0.0,>=2.14.1 in ./venv/lib/python3.13/site-packages (from google-ai-generativelanguage<0.7.0,>=0.6.18->langchain_google_genai) (2.40.3)\n",
            "Requirement already satisfied: proto-plus<2.0.0,>=1.22.3 in ./venv/lib/python3.13/site-packages (from google-ai-generativelanguage<0.7.0,>=0.6.18->langchain_google_genai) (1.26.1)\n",
            "Requirement already satisfied: protobuf!=4.21.0,!=4.21.1,!=4.21.2,!=4.21.3,!=4.21.4,!=4.21.5,<7.0.0,>=3.20.2 in ./venv/lib/python3.13/site-packages (from google-ai-generativelanguage<0.7.0,>=0.6.18->langchain_google_genai) (5.29.5)\n",
            "Requirement already satisfied: anyio in ./venv/lib/python3.13/site-packages (from httpx>=0.27.0->chromadb) (4.9.0)\n",
            "Requirement already satisfied: certifi in ./venv/lib/python3.13/site-packages (from httpx>=0.27.0->chromadb) (2025.6.15)\n",
            "Requirement already satisfied: httpcore==1.* in ./venv/lib/python3.13/site-packages (from httpx>=0.27.0->chromadb) (1.0.9)\n",
            "Requirement already satisfied: idna in ./venv/lib/python3.13/site-packages (from httpx>=0.27.0->chromadb) (3.10)\n",
            "Requirement already satisfied: h11>=0.16 in ./venv/lib/python3.13/site-packages (from httpcore==1.*->httpx>=0.27.0->chromadb) (0.16.0)\n",
            "Requirement already satisfied: jsonschema-specifications>=2023.03.6 in ./venv/lib/python3.13/site-packages (from jsonschema>=4.19.0->chromadb) (2025.4.1)\n",
            "Requirement already satisfied: referencing>=0.28.4 in ./venv/lib/python3.13/site-packages (from jsonschema>=4.19.0->chromadb) (0.36.2)\n",
            "Requirement already satisfied: rpds-py>=0.7.1 in ./venv/lib/python3.13/site-packages (from jsonschema>=4.19.0->chromadb) (0.25.1)\n",
            "Requirement already satisfied: six>=1.9.0 in ./venv/lib/python3.13/site-packages (from kubernetes>=28.1.0->chromadb) (1.17.0)\n",
            "Requirement already satisfied: python-dateutil>=2.5.3 in ./venv/lib/python3.13/site-packages (from kubernetes>=28.1.0->chromadb) (2.9.0.post0)\n",
            "Requirement already satisfied: websocket-client!=0.40.0,!=0.41.*,!=0.42.*,>=0.32.0 in ./venv/lib/python3.13/site-packages (from kubernetes>=28.1.0->chromadb) (1.8.0)\n",
            "Requirement already satisfied: requests-oauthlib in ./venv/lib/python3.13/site-packages (from kubernetes>=28.1.0->chromadb) (2.0.0)\n",
            "Requirement already satisfied: oauthlib>=3.2.2 in ./venv/lib/python3.13/site-packages (from kubernetes>=28.1.0->chromadb) (3.3.1)\n",
            "Requirement already satisfied: urllib3>=1.24.2 in ./venv/lib/python3.13/site-packages (from kubernetes>=28.1.0->chromadb) (2.5.0)\n",
            "Requirement already satisfied: durationpy>=0.7 in ./venv/lib/python3.13/site-packages (from kubernetes>=28.1.0->chromadb) (0.10)\n",
            "Requirement already satisfied: langchain-text-splitters<1.0.0,>=0.3.8 in ./venv/lib/python3.13/site-packages (from langchain<1.0.0,>=0.3.25->langchain_community) (0.3.8)\n",
            "Requirement already satisfied: jsonpatch<2.0,>=1.33 in ./venv/lib/python3.13/site-packages (from langchain-core<0.4.0,>=0.3.27->langchain_cohere) (1.33)\n",
            "Requirement already satisfied: requests-toolbelt<2.0.0,>=1.0.0 in ./venv/lib/python3.13/site-packages (from langsmith<0.4,>=0.1.125->langchain_community) (1.0.0)\n",
            "Requirement already satisfied: zstandard<0.24.0,>=0.23.0 in ./venv/lib/python3.13/site-packages (from langsmith<0.4,>=0.1.125->langchain_community) (0.23.0)\n",
            "Requirement already satisfied: coloredlogs in ./venv/lib/python3.13/site-packages (from onnxruntime>=1.14.1->chromadb) (15.0.1)\n",
            "Requirement already satisfied: flatbuffers in ./venv/lib/python3.13/site-packages (from onnxruntime>=1.14.1->chromadb) (25.2.10)\n",
            "Requirement already satisfied: sympy in ./venv/lib/python3.13/site-packages (from onnxruntime>=1.14.1->chromadb) (1.14.0)\n",
            "Requirement already satisfied: importlib-metadata<8.8.0,>=6.0 in ./venv/lib/python3.13/site-packages (from opentelemetry-api>=1.2.0->chromadb) (8.7.0)\n",
            "Requirement already satisfied: googleapis-common-protos~=1.52 in ./venv/lib/python3.13/site-packages (from opentelemetry-exporter-otlp-proto-grpc>=1.2.0->chromadb) (1.70.0)\n",
            "Requirement already satisfied: opentelemetry-exporter-otlp-proto-common==1.34.1 in ./venv/lib/python3.13/site-packages (from opentelemetry-exporter-otlp-proto-grpc>=1.2.0->chromadb) (1.34.1)\n",
            "Requirement already satisfied: opentelemetry-proto==1.34.1 in ./venv/lib/python3.13/site-packages (from opentelemetry-exporter-otlp-proto-grpc>=1.2.0->chromadb) (1.34.1)\n",
            "Requirement already satisfied: opentelemetry-semantic-conventions==0.55b1 in ./venv/lib/python3.13/site-packages (from opentelemetry-sdk>=1.2.0->chromadb) (0.55b1)\n",
            "Requirement already satisfied: backoff>=1.10.0 in ./venv/lib/python3.13/site-packages (from posthog>=2.4.0->chromadb) (2.2.1)\n",
            "Requirement already satisfied: distro>=1.5.0 in ./venv/lib/python3.13/site-packages (from posthog>=2.4.0->chromadb) (1.9.0)\n",
            "Requirement already satisfied: annotated-types>=0.6.0 in ./venv/lib/python3.13/site-packages (from pydantic<3,>=2->langchain_cohere) (0.7.0)\n",
            "Requirement already satisfied: typing-inspection>=0.4.0 in ./venv/lib/python3.13/site-packages (from pydantic<3,>=2->langchain_cohere) (0.4.1)\n",
            "Requirement already satisfied: charset_normalizer<4,>=2 in ./venv/lib/python3.13/site-packages (from requests<3,>=2->langchain_community) (3.4.2)\n",
            "Requirement already satisfied: markdown-it-py>=2.2.0 in ./venv/lib/python3.13/site-packages (from rich>=10.11.0->chromadb) (3.0.0)\n",
            "Requirement already satisfied: pygments<3.0.0,>=2.13.0 in ./venv/lib/python3.13/site-packages (from rich>=10.11.0->chromadb) (2.19.1)\n",
            "Requirement already satisfied: greenlet>=1 in ./venv/lib/python3.13/site-packages (from SQLAlchemy<3,>=1.4->langchain_community) (3.2.3)\n",
            "Requirement already satisfied: huggingface-hub<1.0,>=0.16.4 in ./venv/lib/python3.13/site-packages (from tokenizers>=0.13.2->chromadb) (0.33.0)\n",
            "Requirement already satisfied: click>=8.0.0 in ./venv/lib/python3.13/site-packages (from typer>=0.9.0->chromadb) (8.2.1)\n",
            "Requirement already satisfied: shellingham>=1.3.0 in ./venv/lib/python3.13/site-packages (from typer>=0.9.0->chromadb) (1.5.4)\n",
            "Requirement already satisfied: httptools>=0.6.3 in ./venv/lib/python3.13/site-packages (from uvicorn[standard]>=0.18.3->chromadb) (0.6.4)\n",
            "Requirement already satisfied: uvloop>=0.15.1 in ./venv/lib/python3.13/site-packages (from uvicorn[standard]>=0.18.3->chromadb) (0.21.0)\n",
            "Requirement already satisfied: watchfiles>=0.13 in ./venv/lib/python3.13/site-packages (from uvicorn[standard]>=0.18.3->chromadb) (1.1.0)\n",
            "Requirement already satisfied: websockets>=10.4 in ./venv/lib/python3.13/site-packages (from uvicorn[standard]>=0.18.3->chromadb) (15.0.1)\n",
            "Requirement already satisfied: grpcio-status<2.0.0,>=1.33.2 in ./venv/lib/python3.13/site-packages (from google-api-core[grpc]!=2.0.*,!=2.1.*,!=2.10.*,!=2.2.*,!=2.3.*,!=2.4.*,!=2.5.*,!=2.6.*,!=2.7.*,!=2.8.*,!=2.9.*,<3.0.0,>=1.34.1->google-ai-generativelanguage<0.7.0,>=0.6.18->langchain_google_genai) (1.71.0)\n",
            "Requirement already satisfied: cachetools<6.0,>=2.0.0 in ./venv/lib/python3.13/site-packages (from google-auth!=2.24.0,!=2.25.0,<3.0.0,>=2.14.1->google-ai-generativelanguage<0.7.0,>=0.6.18->langchain_google_genai) (5.5.2)\n",
            "Requirement already satisfied: pyasn1-modules>=0.2.1 in ./venv/lib/python3.13/site-packages (from google-auth!=2.24.0,!=2.25.0,<3.0.0,>=2.14.1->google-ai-generativelanguage<0.7.0,>=0.6.18->langchain_google_genai) (0.4.2)\n",
            "Requirement already satisfied: rsa<5,>=3.1.4 in ./venv/lib/python3.13/site-packages (from google-auth!=2.24.0,!=2.25.0,<3.0.0,>=2.14.1->google-ai-generativelanguage<0.7.0,>=0.6.18->langchain_google_genai) (4.9.1)\n",
            "Requirement already satisfied: filelock in ./venv/lib/python3.13/site-packages (from huggingface-hub<1.0,>=0.16.4->tokenizers>=0.13.2->chromadb) (3.18.0)\n",
            "Requirement already satisfied: fsspec>=2023.5.0 in ./venv/lib/python3.13/site-packages (from huggingface-hub<1.0,>=0.16.4->tokenizers>=0.13.2->chromadb) (2025.5.1)\n",
            "Requirement already satisfied: hf-xet<2.0.0,>=1.1.2 in ./venv/lib/python3.13/site-packages (from huggingface-hub<1.0,>=0.16.4->tokenizers>=0.13.2->chromadb) (1.1.4)\n",
            "Requirement already satisfied: zipp>=3.20 in ./venv/lib/python3.13/site-packages (from importlib-metadata<8.8.0,>=6.0->opentelemetry-api>=1.2.0->chromadb) (3.23.0)\n",
            "Requirement already satisfied: jsonpointer>=1.9 in ./venv/lib/python3.13/site-packages (from jsonpatch<2.0,>=1.33->langchain-core<0.4.0,>=0.3.27->langchain_cohere) (3.0.0)\n",
            "Requirement already satisfied: mdurl~=0.1 in ./venv/lib/python3.13/site-packages (from markdown-it-py>=2.2.0->rich>=10.11.0->chromadb) (0.1.2)\n",
            "Requirement already satisfied: mypy-extensions>=0.3.0 in ./venv/lib/python3.13/site-packages (from typing-inspect<1,>=0.4.0->dataclasses-json<0.7,>=0.5.7->langchain_community) (1.1.0)\n",
            "Requirement already satisfied: sniffio>=1.1 in ./venv/lib/python3.13/site-packages (from anyio->httpx>=0.27.0->chromadb) (1.3.1)\n",
            "Requirement already satisfied: humanfriendly>=9.1 in ./venv/lib/python3.13/site-packages (from coloredlogs->onnxruntime>=1.14.1->chromadb) (10.0)\n",
            "Requirement already satisfied: mpmath<1.4,>=1.1.0 in ./venv/lib/python3.13/site-packages (from sympy->onnxruntime>=1.14.1->chromadb) (1.3.0)\n",
            "Requirement already satisfied: pyasn1<0.7.0,>=0.6.1 in ./venv/lib/python3.13/site-packages (from pyasn1-modules>=0.2.1->google-auth!=2.24.0,!=2.25.0,<3.0.0,>=2.14.1->google-ai-generativelanguage<0.7.0,>=0.6.18->langchain_google_genai) (0.6.1)\n",
            "Note: you may need to restart the kernel to use updated packages.\n"
          ]
        }
      ],
      "source": [
        "%pip install langchain_cohere langchain_community langchain_google_genai chromadb dotenv"
      ]
    },
    {
      "cell_type": "code",
      "execution_count": 17,
      "metadata": {
        "id": "fuZEKL2EBG9F"
      },
      "outputs": [],
      "source": [
        "# Importing Stuff needed to Import\n",
        "import os, dotenv\n",
        "from textwrap import fill\n",
        "from langchain.prompts import ChatPromptTemplate\n",
        "from langchain_community.document_loaders import TextLoader\n",
        "from langchain.text_splitter import RecursiveCharacterTextSplitter\n",
        "from langchain_cohere import CohereEmbeddings, CohereRerank\n",
        "from langchain_community.vectorstores import Chroma\n",
        "from langchain.schema.output_parser import StrOutputParser\n",
        "from langchain_google_genai import ChatGoogleGenerativeAI\n",
        "from langchain.retrievers.contextual_compression import ContextualCompressionRetriever\n"
      ]
    },
    {
      "cell_type": "code",
      "execution_count": 18,
      "metadata": {
        "id": "CmtwB6TkBPSQ"
      },
      "outputs": [],
      "source": [
        "# Loading environment Variables\n",
        "dotenv.load_dotenv()\n",
        "COHERE_KEY = os.environ[\"COHERE_API_KEY\"]\n",
        "GENAI_KEY = os.environ[\"GOOGLE_API_KEY\"]"
      ]
    },
    {
      "cell_type": "code",
      "execution_count": 19,
      "metadata": {
        "id": "5fjb_y5WBauf"
      },
      "outputs": [],
      "source": [
        "# Setting up the LLM, Embedding Model and Vector Store\n",
        "llm = ChatGoogleGenerativeAI(model=\"gemini-2.0-flash-001\", temperature=1, api_key = GENAI_KEY)\n",
        "embedding_model = CohereEmbeddings(model=\"embed-v4.0\", cohere_api_key=COHERE_KEY)\n",
        "file_path = './HarryPotter.txt'\n",
        "loader = TextLoader(file_path)\n",
        "splitter = RecursiveCharacterTextSplitter(chunk_size=500, chunk_overlap=50)\n",
        "vectorstore = Chroma.from_documents(\n",
        "    documents=splitter.split_documents(loader.load()),\n",
        "    collection_name=\"ReRankingRAG\",\n",
        "    embedding=embedding_model,\n",
        ")"
      ]
    },
    {
      "cell_type": "code",
      "execution_count": 20,
      "metadata": {
        "id": "jzxXruO9BzxQ"
      },
      "outputs": [],
      "source": [
        "# Making the prompt and RAG pipeline\n",
        "prompt = ChatPromptTemplate.from_template('''\n",
        "You are a very sincere Potterhead and know everything regarding Harry Potter and are willing to answer questions regarding it\"\n",
        "Context: {context}\n",
        "Now answer this question in a very crisp manner - the same way Albus Dumbledore would answer.\n",
        "Be elaborate, yap a lot of wisdom like Albus and end conversation warmly\n",
        "Question: {question}\n",
        "'''\n",
        ")\n",
        "rag = prompt | llm | StrOutputParser()"
      ]
    },
    {
      "cell_type": "code",
      "execution_count": 21,
      "metadata": {
        "id": "nldIJHmvWGxp"
      },
      "outputs": [],
      "source": [
        "#Setting Up Re-Ranking\n",
        "base_retriever = vectorstore.as_retriever(\n",
        "    search_type=\"mmr\",\n",
        "    search_kwargs = {\"k\":15}\n",
        ")\n",
        "compressor = CohereRerank(\n",
        "    cohere_api_key=COHERE_KEY,\n",
        "    model=\"rerank-english-v3.0\",\n",
        "    top_n=5\n",
        ")\n",
        "context_retriever = ContextualCompressionRetriever(\n",
        "    base_compressor=compressor,\n",
        "    base_retriever=base_retriever,\n",
        ")"
      ]
    },
    {
      "cell_type": "code",
      "execution_count": 22,
      "metadata": {
        "colab": {
          "base_uri": "https://localhost:8080/"
        },
        "id": "7EJI2AsdB3G6",
        "outputId": "349d2ac3-4e7a-4bbd-814b-19f6048d27ad"
      },
      "outputs": [],
      "source": [
        "#Getting Input\n",
        "query = input(\"Enter query: \")"
      ]
    },
    {
      "cell_type": "code",
      "execution_count": 23,
      "metadata": {},
      "outputs": [
        {
          "name": "stdout",
          "output_type": "stream",
          "text": [
            "Query:\n",
            "What are all the horcruxes and how were they all destroyed?\n",
            "\n",
            "Ah, a question of weighty consequence, touching upon the darkest of magics and the valiant efforts undertaken to vanquish it. Very\n",
            "well, let us delve into the grim catalogue of Lord Voldemort's Horcruxes and their respective fates.  There were seven, in total,\n",
            "each a fragment of a soul shattered by the commission of murder and encased within an object:  1.  **Tom Riddle's Diary:** This,\n",
            "as you know, was the first to be discovered and destroyed. In the Chamber of Secrets, Harry Potter, aided by the timely assistance\n",
            "of Fawkes, the phoenix, and armed with the Sword of Gryffindor, pierced the diary, releasing the trapped fragment of soul and\n",
            "ending its influence.  2.  **Marvolo Gaunt's Ring:** This ancient heirloom, bearing the Resurrection Stone, was located within the\n",
            "ruins of the Gaunt family home. It was I, Albus Dumbledore, who found and destroyed this Horcrux, utilizing the Sword of\n",
            "Gryffindor. Alas, in my haste to possess a means to reunite with lost loved ones, I was cursed by the ring, necessitating the\n",
            "actions of Severus Snape to save me.  3.  **Salazar Slytherin's Locket:** A powerful symbol, it was passed down through the\n",
            "Slytherin line. This Horcrux proved elusive but was eventually located by the Golden Trio. Ronald Weasley, facing his fears and\n",
            "drawing upon his loyalty to his friends, destroyed the locket with the Sword of Gryffindor after Harry had weakened it.  4.\n",
            "**Helga Hufflepuff's Cup:** A treasure long held by Hepzibah Smith, it fell into Voldemort's grasp and became a Horcrux. This was\n",
            "located and destroyed within Gringotts Wizarding Bank by Hermione Granger, employing a basilisk fang procured from the Chamber of\n",
            "Secrets. A demonstration of her wit and resourcefulness, wouldn't you agree?  5.  **Rowena Ravenclaw's Diadem:** A relic of great\n",
            "intellectual power, hidden within Hogwarts School of Witchcraft and Wizardry itself. It was Harry Potter who located the diadem\n",
            "within the Room of Requirement, and through a terrible accident of fiendfyre unleashed by Crabbe, it was inadvertently destroyed.\n",
            "A lesson, perhaps, in the uncontrollable nature of destructive magic.  6.  **Nagini:** Voldemort's loyal serpent, transformed into\n",
            "a Horcrux late in the war. Neville Longbottom, standing as a true Gryffindor, displayed immense courage by beheading the snake\n",
            "with the Sword of Gryffindor during the Battle of Hogwarts, removing Voldemort's final tether to immortality.  7.  **Harry\n",
            "Potter:** Yes, tragically, Harry himself became an unintentional Horcrux when Voldemort's curse rebounded upon him as a baby. It\n",
            "was only when Voldemort struck him in the Forbidden Forest, unknowingly destroying the fragment of his soul residing within Harry,\n",
            "that Harry was able to truly defeat him.  Each destruction was a blow against the darkness, a testament to the power of love,\n",
            "friendship, and the unwavering pursuit of good. Remember, even in the darkest of times, hope can still exist!  Now, is there any\n",
            "other arcane and difficult question that I can illuminate for you? It is a pleasure to converse with one so interested in magical\n",
            "knowledge!\n"
          ]
        }
      ],
      "source": [
        "# Output\n",
        "print(f\"Query:\\n{query}\\n\")\n",
        "context = \"\\n\".join([doc.page_content for doc in context_retriever.invoke(query)])\n",
        "print(fill(rag.invoke({\"context\":context, \"question\": query}), width=130))"
      ]
    }
  ],
  "metadata": {
    "colab": {
      "provenance": [],
      "toc_visible": true
    },
    "kernelspec": {
      "display_name": "venv",
      "language": "python",
      "name": "python3"
    },
    "language_info": {
      "codemirror_mode": {
        "name": "ipython",
        "version": 3
      },
      "file_extension": ".py",
      "mimetype": "text/x-python",
      "name": "python",
      "nbconvert_exporter": "python",
      "pygments_lexer": "ipython3",
      "version": "3.13.3"
    }
  },
  "nbformat": 4,
  "nbformat_minor": 0
}
